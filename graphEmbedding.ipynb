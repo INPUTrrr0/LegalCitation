{
 "cells": [
  {
   "cell_type": "code",
   "execution_count": 1,
   "id": "98b56b29",
   "metadata": {},
   "outputs": [
    {
     "name": "stderr",
     "output_type": "stream",
     "text": [
      "Using backend: pytorch\n"
     ]
    }
   ],
   "source": [
    "import csv\n",
    "import networkx as nx\n",
    "import dgl\n",
    "import torch\n",
    "from dgl.data import DGLDataset\n",
    "import numpy as np\n",
    "import scipy.sparse as sp\n",
    "import torch.nn as nn\n",
    "import torch.nn.functional as F\n",
    "import itertools\n",
    "import sklearn"
   ]
  },
  {
   "cell_type": "code",
   "execution_count": 2,
   "id": "782a4e91",
   "metadata": {},
   "outputs": [],
   "source": [
    "\n",
    "def firstn(filepath, reporterid, n):\n",
    "    with open(filepath) as csvfile:\n",
    "        reader = csv.reader(csvfile, delimiter=',')\n",
    "        next(reader, None)\n",
    "        out = {}\n",
    "        i = 0\n",
    "        for row in reader:\n",
    "            if int(row[7]) == reporterid:\n",
    "                out[int(row[0])] = row[1:]\n",
    "                i+=1\n",
    "            if i >= n:\n",
    "                break\n",
    "        return out\n",
    "#     firstn('metadata.csv',\n",
    "#                983, ## US reports\n",
    "#                6000\n",
    "#               )"
   ]
  },
  {
   "cell_type": "code",
   "execution_count": 51,
   "id": "00ecfe12",
   "metadata": {},
   "outputs": [
    {
     "ename": "AttributeError",
     "evalue": "'list' object has no attribute 'keys'",
     "output_type": "error",
     "traceback": [
      "\u001b[0;31m---------------------------------------------------------------------------\u001b[0m",
      "\u001b[0;31mAttributeError\u001b[0m                            Traceback (most recent call last)",
      "\u001b[0;32m<ipython-input-51-945232955a18>\u001b[0m in \u001b[0;36m<module>\u001b[0;34m\u001b[0m\n\u001b[0;32m----> 1\u001b[0;31m \u001b[0mcaselist\u001b[0m \u001b[0;34m=\u001b[0m \u001b[0mset\u001b[0m\u001b[0;34m(\u001b[0m\u001b[0mout\u001b[0m\u001b[0;34m.\u001b[0m\u001b[0mkeys\u001b[0m\u001b[0;34m(\u001b[0m\u001b[0;34m)\u001b[0m\u001b[0;34m)\u001b[0m\u001b[0;34m\u001b[0m\u001b[0;34m\u001b[0m\u001b[0m\n\u001b[0m",
      "\u001b[0;31mAttributeError\u001b[0m: 'list' object has no attribute 'keys'"
     ]
    }
   ],
   "source": [
    "caselist = set(out.keys())"
   ]
  },
  {
   "cell_type": "code",
   "execution_count": 3,
   "id": "6f1fb7ac",
   "metadata": {},
   "outputs": [],
   "source": [
    "def gen_nx(adjfile, caselist):\n",
    "    dumbg = nx.Graph()\n",
    "\n",
    "    with open(adjfile) as cites:\n",
    "        citereader = csv.reader(cites, delimiter=',')\n",
    "        next(citereader, None)\n",
    "        for row in citereader:\n",
    "            if len(row) < 2:\n",
    "                continue\n",
    "            ego = int(row[0])\n",
    "            if ego in caselist:\n",
    "                for r in row:\n",
    "                    if int(r) in caselist:\n",
    "                        dumbg.add_edge(ego, int(r))\n",
    "    \n",
    "    return dumbg\n",
    "                    \n",
    "# print(dumbg.number_of_edges())\n",
    "# print(dumbg.number_of_nodes)"
   ]
  },
  {
   "cell_type": "code",
   "execution_count": 4,
   "id": "152e434d",
   "metadata": {},
   "outputs": [],
   "source": [
    "def random_mask(ntrue, total, seed=1234):\n",
    "    if total < ntrue:\n",
    "        raise ArithmeticError \n",
    "    arr = arr = np.zeros(total, dtype=bool)\n",
    "    rng = np.random.default_rng(seed)\n",
    "    arr[:ntrue] = True\n",
    "    rng.shuffle(arr)\n",
    "    arrtorch = torch.from_numpy(arr)\n",
    "    return arrtorch"
   ]
  },
  {
   "cell_type": "code",
   "execution_count": 46,
   "id": "8e852f4b",
   "metadata": {},
   "outputs": [
    {
     "data": {
      "text/plain": [
       "14598"
      ]
     },
     "execution_count": 46,
     "metadata": {},
     "output_type": "execute_result"
    }
   ],
   "source": [
    "['id','frontend_url','jurisdiction__name','jurisdiction_id','court__name_abbreviation','court_id,reporter__short_name,reporter_id,name_abbreviation','decision_date_original','cites']"
   ]
  },
  {
   "cell_type": "code",
   "execution_count": 57,
   "id": "c9d6da91",
   "metadata": {},
   "outputs": [
    {
     "data": {
      "text/plain": [
       "['/us/317/395/',\n",
       " 'U.S.',\n",
       " '39',\n",
       " 'U.S.',\n",
       " '9009',\n",
       " 'U.S.',\n",
       " '983',\n",
       " 'Clyde-Mallory Lines v. The Eglantine',\n",
       " '1943-01-04',\n",
       " '87 L. Ed. 355; 63 S. Ct. 294; 317 U.S. 395; 1943 U.S. LEXIS 1125; SCDB 1942-057']"
      ]
     },
     "execution_count": 57,
     "metadata": {},
     "output_type": "execute_result"
    }
   ],
   "source": [
    "out[303792] ## of these year could be useful if we truncated it"
   ]
  },
  {
   "cell_type": "code",
   "execution_count": 62,
   "id": "cab9d6a8",
   "metadata": {},
   "outputs": [
    {
     "data": {
      "text/plain": [
       "1943"
      ]
     },
     "execution_count": 62,
     "metadata": {},
     "output_type": "execute_result"
    }
   ],
   "source": [
    "int(out[303792][-2][:4])"
   ]
  },
  {
   "cell_type": "code",
   "execution_count": null,
   "id": "5838f899",
   "metadata": {},
   "outputs": [],
   "source": []
  },
  {
   "cell_type": "code",
   "execution_count": 9,
   "id": "f21f2437",
   "metadata": {},
   "outputs": [],
   "source": [
    "\n",
    "class SupremeCourt(DGLDataset):\n",
    "    def __init__(self):\n",
    "        super().__init__(name='scotus', verbose=True, force_reload=True)\n",
    "        ## print(self.graph)\n",
    "        \n",
    "    def __getitem__(self, i):\n",
    "        return self.graph\n",
    "\n",
    "    def __len__(self):\n",
    "        return 1\n",
    "    \n",
    "    def process(self):\n",
    "        casedict = firstn('metadata.csv',\n",
    "               983, ## US reports\n",
    "               8000)\n",
    "        caselist = set(casedict.keys())\n",
    "        nxgraph = gen_nx('citations.csv', caselist)\n",
    "#         for k in casedict.keys():\n",
    "#             try:\n",
    "#                 nxgraph.nodes[k]['feat'] = torch.tensor(\n",
    "#                     [float(casedict[k][-2][:4])], dtype=torch.float32)\n",
    "#             except:\n",
    "#                 pass\n",
    "        \n",
    "        nxgraph = get_largest_component(nxgraph)\n",
    "        \n",
    "        self.graph = nxgraph\n",
    "        \n",
    "#         print('nx graph is ', nxgraph)\n",
    "        \n",
    "#         self.graph = dgl.from_networkx(nxgraph, node_attrs=['feat'], idtype=torch.int32)"
   ]
  },
  {
   "cell_type": "code",
   "execution_count": 10,
   "id": "bb072777",
   "metadata": {},
   "outputs": [
    {
     "name": "stdout",
     "output_type": "stream",
     "text": [
      "Done saving data into cached files.\n"
     ]
    }
   ],
   "source": [
    "dbb = SupremeCourt()"
   ]
  },
  {
   "cell_type": "code",
   "execution_count": 12,
   "id": "b722d783",
   "metadata": {},
   "outputs": [],
   "source": [
    "nx.write_edgelist(dbb.graph, 'scotus-data.txt')"
   ]
  },
  {
   "cell_type": "code",
   "execution_count": 179,
   "id": "ea887776",
   "metadata": {},
   "outputs": [],
   "source": [
    "graph = dbb.graph\n",
    "n_edges = graph.num_edges()\n",
    "n_train = int(n_edges * 0.9)\n",
    "n_val = int(n_edges * 0.0555555555)\n",
    "train_mask = random_mask(n_train, n_edges, seed=1234)\n",
    "test_mask = torch.logical_not(train_mask)\n",
    "val_mask = random_mask(n_val, n_edges, seed=2)\n",
    "val_mask = torch.logical_and(val_mask, train_mask)\n",
    "graph.edata['train_mask'] = train_mask\n",
    "graph.edata['val_mask'] = val_mask\n",
    "graph.edata['test_mask'] = test_mask\n",
    "\n",
    "################################################################################ \n",
    "### BELOW THIS LINE STARTS CODE DIRECTLY RIPPED FROM THE DGL TUTORIAL ####\n",
    "\n",
    "g = graph\n",
    "# Split edge set for training and testing\n",
    "u, v = g.edges()\n",
    "eids = np.arange(g.number_of_edges())\n",
    "eids = np.random.permutation(eids)\n",
    "test_size = int(len(eids) * 0.1)\n",
    "train_size = g.number_of_edges() - test_size\n",
    "test_pos_u, test_pos_v = u[eids[:test_size]], v[eids[:test_size]]\n",
    "train_pos_u, train_pos_v = u[eids[test_size:]], v[eids[test_size:]]\n",
    "\n",
    "# Find all negative edges and split them for training and testing\n",
    "adj = sp.coo_matrix((np.ones(len(u)), (u.numpy(), v.numpy())))\n",
    "adj_neg = 1 - adj.todense() - np.eye(g.number_of_nodes())\n",
    "neg_u, neg_v = np.where(adj_neg != 0)\n",
    "\n",
    "neg_eids = np.random.choice(len(neg_u), g.number_of_edges())\n",
    "test_neg_u, test_neg_v = neg_u[neg_eids[:test_size]], neg_v[neg_eids[:test_size]]\n",
    "train_neg_u, train_neg_v = neg_u[neg_eids[test_size:]], neg_v[neg_eids[test_size:]]"
   ]
  },
  {
   "cell_type": "code",
   "execution_count": 180,
   "id": "f5f51f7a",
   "metadata": {},
   "outputs": [
    {
     "data": {
      "text/plain": [
       "tensor([[1977.],\n",
       "        [1977.],\n",
       "        [1977.],\n",
       "        ...,\n",
       "        [1905.],\n",
       "        [1905.],\n",
       "        [1905.]])"
      ]
     },
     "execution_count": 180,
     "metadata": {},
     "output_type": "execute_result"
    }
   ],
   "source": [
    "g.ndata['feat']"
   ]
  },
  {
   "cell_type": "code",
   "execution_count": 181,
   "id": "f2a7926b",
   "metadata": {},
   "outputs": [],
   "source": [
    "train_g = dgl.remove_edges(g, eids[:test_size])"
   ]
  },
  {
   "cell_type": "code",
   "execution_count": 164,
   "id": "96b07376",
   "metadata": {},
   "outputs": [],
   "source": []
  },
  {
   "cell_type": "code",
   "execution_count": 182,
   "id": "8ba65f2e",
   "metadata": {},
   "outputs": [],
   "source": [
    "from dgl.nn import SAGEConv\n",
    "\n",
    "# ----------- 2. create model -------------- #\n",
    "# build a two-layer GraphSAGE model\n",
    "class GraphSAGE(nn.Module):\n",
    "    def __init__(self, in_feats, h_feats):\n",
    "        super(GraphSAGE, self).__init__()\n",
    "        self.conv1 = SAGEConv(in_feats, h_feats, 'mean')\n",
    "        self.conv2 = SAGEConv(h_feats, h_feats, 'mean')\n",
    "\n",
    "    def forward(self, g, in_feat):\n",
    "        h = self.conv1(g, in_feat)\n",
    "        h = F.relu(h)\n",
    "        h = self.conv2(g, h)\n",
    "        return h"
   ]
  },
  {
   "cell_type": "code",
   "execution_count": 183,
   "id": "db4d7e84",
   "metadata": {},
   "outputs": [],
   "source": [
    "train_pos_g = dgl.graph((train_pos_u, train_pos_v), num_nodes=g.number_of_nodes())\n",
    "train_neg_g = dgl.graph((train_neg_u, train_neg_v), num_nodes=g.number_of_nodes())\n",
    "\n",
    "test_pos_g = dgl.graph((test_pos_u, test_pos_v), num_nodes=g.number_of_nodes())\n",
    "test_neg_g = dgl.graph((test_neg_u, test_neg_v), num_nodes=g.number_of_nodes())"
   ]
  },
  {
   "cell_type": "code",
   "execution_count": 184,
   "id": "b315dd21",
   "metadata": {},
   "outputs": [],
   "source": [
    "import dgl.function as fn\n",
    "\n",
    "class DotPredictor(nn.Module):\n",
    "    def forward(self, g, h):\n",
    "        with g.local_scope():\n",
    "            g.ndata['h'] = h\n",
    "            # Compute a new edge feature named 'score' by a dot-product between the\n",
    "            # source node feature 'h' and destination node feature 'h'.\n",
    "            g.apply_edges(fn.u_dot_v('h', 'h', 'score'))\n",
    "            # u_dot_v returns a 1-element vector for each edge so you need to squeeze it.\n",
    "            return g.edata['score'][:, 0]"
   ]
  },
  {
   "cell_type": "code",
   "execution_count": 185,
   "id": "2bc585bc",
   "metadata": {},
   "outputs": [],
   "source": [
    "model = GraphSAGE(1, 16)\n",
    "# You can replace DotPredictor with MLPPredictor.\n",
    "#pred = MLPPredictor(16)\n",
    "pred = DotPredictor()\n",
    "\n",
    "def compute_loss(pos_score, neg_score):\n",
    "    scores = torch.cat([pos_score, neg_score])\n",
    "    labels = torch.cat([torch.ones(pos_score.shape[0]), torch.zeros(neg_score.shape[0])])\n",
    "    return F.binary_cross_entropy_with_logits(scores, labels)\n",
    "\n",
    "def compute_auc(pos_score, neg_score):\n",
    "    scores = torch.cat([pos_score, neg_score]).numpy()\n",
    "    labels = torch.cat(\n",
    "        [torch.ones(pos_score.shape[0]), torch.zeros(neg_score.shape[0])]).numpy()\n",
    "    return roc_auc_score(labels, scores)"
   ]
  },
  {
   "cell_type": "code",
   "execution_count": 190,
   "id": "4ceed952",
   "metadata": {},
   "outputs": [
    {
     "name": "stdout",
     "output_type": "stream",
     "text": [
      "In epoch 0, loss: 1017.6917724609375\n",
      "In epoch 5, loss: 30874.8515625\n",
      "In epoch 10, loss: 18678.546875\n",
      "In epoch 15, loss: 7384.3388671875\n",
      "In epoch 20, loss: 1034.5850830078125\n",
      "In epoch 25, loss: 2197.5625\n",
      "In epoch 30, loss: 2442.427490234375\n",
      "In epoch 35, loss: 996.1798095703125\n",
      "In epoch 40, loss: 926.5679931640625\n",
      "In epoch 45, loss: 993.4432373046875\n",
      "In epoch 50, loss: 748.9251708984375\n",
      "In epoch 55, loss: 747.6058959960938\n",
      "In epoch 60, loss: 699.091552734375\n",
      "In epoch 65, loss: 672.65478515625\n",
      "In epoch 70, loss: 644.63720703125\n",
      "In epoch 75, loss: 628.20361328125\n",
      "In epoch 80, loss: 608.7587890625\n",
      "In epoch 85, loss: 594.9144287109375\n",
      "In epoch 90, loss: 579.6618041992188\n",
      "In epoch 95, loss: 565.1599731445312\n",
      "AUC 0.5635049450922882\n"
     ]
    }
   ],
   "source": [
    "# ----------- 3. set up loss and optimizer -------------- #\n",
    "# in this case, loss will in training loop\n",
    "optimizer = torch.optim.Adam(itertools.chain(model.parameters(), pred.parameters()), lr=0.01)\n",
    "\n",
    "# ----------- 4. training -------------------------------- #\n",
    "all_logits = []\n",
    "for e in range(100):\n",
    "    # forward\n",
    "    h = model(train_g, train_g.ndata['feat'])\n",
    "    pos_score = pred(train_pos_g, h)\n",
    "    neg_score = pred(train_neg_g, h)\n",
    "    loss = compute_loss(pos_score, neg_score)\n",
    "\n",
    "    # backward\n",
    "    optimizer.zero_grad()\n",
    "    loss.backward()\n",
    "    optimizer.step()\n",
    "\n",
    "    if e % 5 == 0:\n",
    "        print('In epoch {}, loss: {}'.format(e, loss))\n",
    "\n",
    "# ----------- 5. check results ------------------------ #\n",
    "from sklearn.metrics import roc_auc_score\n",
    "with torch.no_grad():\n",
    "    pos_score = pred(test_pos_g, h)\n",
    "    neg_score = pred(test_neg_g, h)\n",
    "    print('AUC', compute_auc(pos_score, neg_score))"
   ]
  },
  {
   "cell_type": "code",
   "execution_count": null,
   "id": "f076db74",
   "metadata": {},
   "outputs": [],
   "source": [
    "################ END DGL CODE ###################"
   ]
  },
  {
   "cell_type": "code",
   "execution_count": 76,
   "id": "694a01b1",
   "metadata": {},
   "outputs": [
    {
     "name": "stdout",
     "output_type": "stream",
     "text": [
      "nx graph is  Graph with 5181 nodes and 20574 edges\n",
      "Done saving data into cached files.\n",
      "verbose time over\n",
      "Graph(num_nodes=5181, num_edges=36414,\n",
      "      ndata_schemes={'year': Scheme(shape=(), dtype=torch.int64)}\n",
      "      edata_schemes={})\n",
      "Graph(num_nodes=5181, num_edges=36414,\n",
      "      ndata_schemes={'year': Scheme(shape=(), dtype=torch.int64)}\n",
      "      edata_schemes={})\n"
     ]
    }
   ],
   "source": [
    "ls = SupremeCourt()\n",
    "\n",
    "print('verbose time over')\n",
    "print(ls[0])\n",
    "\n",
    "print(ls.__getitem__(0))"
   ]
  },
  {
   "cell_type": "code",
   "execution_count": 56,
   "id": "7cf86933",
   "metadata": {},
   "outputs": [],
   "source": [
    "class SmallDataSet(DGLDataset):\n",
    "    def __init__(self):\n",
    "        super().__init__(name='small')\n",
    "        \n",
    "    def process(self):\n",
    "        u, v = (torch.tensor([0, 0, 0, 1]), torch.tensor([1, 2, 3, 3]))\n",
    "        self.graph = dgl.graph((u, v))\n",
    "    \n",
    "    def __len__(self):\n",
    "        return 1\n",
    "    \n",
    "    def __getitem__(self, i):\n",
    "        return self.graph\n",
    "    \n",
    "    def say_hi(self):\n",
    "        return 'hi'"
   ]
  },
  {
   "cell_type": "code",
   "execution_count": null,
   "id": "5d44eddf",
   "metadata": {},
   "outputs": [],
   "source": []
  },
  {
   "cell_type": "code",
   "execution_count": 58,
   "id": "5a38f92e",
   "metadata": {},
   "outputs": [],
   "source": [
    "sd = SmallDataSet()"
   ]
  },
  {
   "cell_type": "code",
   "execution_count": 59,
   "id": "28e12fe9",
   "metadata": {},
   "outputs": [
    {
     "data": {
      "text/plain": [
       "'hi'"
      ]
     },
     "execution_count": 59,
     "metadata": {},
     "output_type": "execute_result"
    }
   ],
   "source": [
    "sd.say_hi()"
   ]
  },
  {
   "cell_type": "code",
   "execution_count": 40,
   "id": "1645933c",
   "metadata": {},
   "outputs": [
    {
     "name": "stdout",
     "output_type": "stream",
     "text": [
      "None\n"
     ]
    }
   ],
   "source": [
    "print(ds[0])"
   ]
  },
  {
   "cell_type": "code",
   "execution_count": 36,
   "id": "968cabb0",
   "metadata": {},
   "outputs": [
    {
     "ename": "AttributeError",
     "evalue": "'SupremeCourt6000' object has no attribute 'say_hi'",
     "output_type": "error",
     "traceback": [
      "\u001b[0;31m---------------------------------------------------------------------------\u001b[0m",
      "\u001b[0;31mAttributeError\u001b[0m                            Traceback (most recent call last)",
      "\u001b[0;32m<ipython-input-36-3dcb22aeeb0f>\u001b[0m in \u001b[0;36m<module>\u001b[0;34m\u001b[0m\n\u001b[0;32m----> 1\u001b[0;31m \u001b[0mds\u001b[0m\u001b[0;34m.\u001b[0m\u001b[0msay_hi\u001b[0m\u001b[0;34m(\u001b[0m\u001b[0;34m)\u001b[0m\u001b[0;34m\u001b[0m\u001b[0;34m\u001b[0m\u001b[0m\n\u001b[0m",
      "\u001b[0;31mAttributeError\u001b[0m: 'SupremeCourt6000' object has no attribute 'say_hi'"
     ]
    }
   ],
   "source": [
    "ds.say_hi()"
   ]
  },
  {
   "cell_type": "code",
   "execution_count": 28,
   "id": "2f03685e",
   "metadata": {},
   "outputs": [],
   "source": [
    "ds.download()"
   ]
  },
  {
   "cell_type": "code",
   "execution_count": 30,
   "id": "1be1e897",
   "metadata": {},
   "outputs": [
    {
     "name": "stdout",
     "output_type": "stream",
     "text": [
      ".\t\t    .ipynb_checkpoints\tpagerank_scores.csv\r\n",
      "..\t\t    metadata.csv\tpagerank_scores.csv.gz\r\n",
      "2009.06946v1.pdf    metadata.csv.gz\t.pagerank_scores.csv.swp\r\n",
      "268231046.pdf\t    .metadata.csv.swm\tUntitled.ipynb\r\n",
      "citations.csv\t    .metadata.csv.swn\tyang-binarized-2018.pdf\r\n",
      "citations.csv.gz    .metadata.csv.swo\r\n",
      ".citations.csv.swp  .metadata.csv.swp\r\n"
     ]
    }
   ],
   "source": [
    "!ls -a"
   ]
  },
  {
   "cell_type": "code",
   "execution_count": 20,
   "id": "208d0dfa",
   "metadata": {},
   "outputs": [
    {
     "name": "stdout",
     "output_type": "stream",
     "text": [
      "None\n"
     ]
    }
   ],
   "source": [
    "print(ds.__len__())"
   ]
  },
  {
   "cell_type": "code",
   "execution_count": 22,
   "id": "8dfc08c6",
   "metadata": {},
   "outputs": [
    {
     "data": {
      "text/plain": [
       "Graph(num_nodes=5181, num_edges=36414,\n",
       "      ndata_schemes={'year': Scheme(shape=(), dtype=torch.int64)}\n",
       "      edata_schemes={})"
      ]
     },
     "execution_count": 22,
     "metadata": {},
     "output_type": "execute_result"
    }
   ],
   "source": [
    "ds.graph"
   ]
  },
  {
   "cell_type": "code",
   "execution_count": 122,
   "id": "8d6447f2",
   "metadata": {},
   "outputs": [
    {
     "name": "stdout",
     "output_type": "stream",
     "text": [
      "None\n"
     ]
    }
   ],
   "source": [
    "print(ds.__getitem__(0))"
   ]
  },
  {
   "cell_type": "code",
   "execution_count": 117,
   "id": "1a6d5542",
   "metadata": {},
   "outputs": [
    {
     "data": {
      "text/plain": [
       "Graph(num_nodes=5181, num_edges=36414,\n",
       "      ndata_schemes={'year': Scheme(shape=(), dtype=torch.int64)}\n",
       "      edata_schemes={})"
      ]
     },
     "execution_count": 117,
     "metadata": {},
     "output_type": "execute_result"
    }
   ],
   "source": [
    "ds.graph"
   ]
  },
  {
   "cell_type": "code",
   "execution_count": 96,
   "id": "3d43a2c3",
   "metadata": {},
   "outputs": [
    {
     "data": {
      "text/plain": [
       "1937"
      ]
     },
     "execution_count": 96,
     "metadata": {},
     "output_type": "execute_result"
    }
   ],
   "source": [
    "graph.nodes[336727]['year']"
   ]
  },
  {
   "cell_type": "code",
   "execution_count": null,
   "id": "83485b12",
   "metadata": {},
   "outputs": [],
   "source": []
  },
  {
   "cell_type": "code",
   "execution_count": 7,
   "id": "d113b78b",
   "metadata": {},
   "outputs": [],
   "source": [
    "def get_largest_component(graph):\n",
    "    return graph.subgraph(max(nx.connected_components(graph), key=len))\n",
    "\n",
    "## len(get_largest_component(graph))"
   ]
  },
  {
   "cell_type": "code",
   "execution_count": 140,
   "id": "524a060c",
   "metadata": {},
   "outputs": [
    {
     "name": "stdout",
     "output_type": "stream",
     "text": [
      "Downloading /home/aiden/.dgl/cora_v2.zip from https://data.dgl.ai/dataset/cora_v2.zip...\n",
      "Extracting file to /home/aiden/.dgl/cora_v2\n",
      "Finished data loading and preprocessing.\n",
      "  NumNodes: 2708\n",
      "  NumEdges: 10556\n",
      "  NumFeats: 1433\n",
      "  NumClasses: 7\n",
      "  NumTrainingSamples: 140\n",
      "  NumValidationSamples: 500\n",
      "  NumTestSamples: 1000\n",
      "Done saving data into cached files.\n"
     ]
    }
   ],
   "source": [
    "import dgl.data\n",
    "\n",
    "dataset = dgl.data.CoraGraphDataset()\n",
    "gprime = dataset[0]"
   ]
  },
  {
   "cell_type": "code",
   "execution_count": 145,
   "id": "69d97ac1",
   "metadata": {},
   "outputs": [
    {
     "data": {
      "text/plain": [
       "torch.Size([2708, 1433])"
      ]
     },
     "execution_count": 145,
     "metadata": {},
     "output_type": "execute_result"
    }
   ],
   "source": [
    "gprime.ndata['feat'].shape"
   ]
  },
  {
   "cell_type": "code",
   "execution_count": 15,
   "id": "a6add6b6",
   "metadata": {},
   "outputs": [
    {
     "name": "stdout",
     "output_type": "stream",
     "text": [
      "2009.06946v1.pdf  deepwalk\t\tpagerank_scores.csv\r\n",
      "268231046.pdf\t  graphEmbedding.ipynb\tpagerank_scores.csv.gz\r\n",
      "citations.csv\t  metadata.csv\t\traw_dir\r\n",
      "citations.csv.gz  metadata.csv.gz\tyang-binarized-2018.pdf\r\n"
     ]
    }
   ],
   "source": [
    "!ls"
   ]
  },
  {
   "cell_type": "code",
   "execution_count": 16,
   "id": "5dfeffd7",
   "metadata": {},
   "outputs": [],
   "source": [
    "emb = np.load('deepwalk/emb.txt.npy')"
   ]
  },
  {
   "cell_type": "code",
   "execution_count": 18,
   "id": "2c7442d3",
   "metadata": {},
   "outputs": [
    {
     "data": {
      "text/plain": [
       "(5181, 128)"
      ]
     },
     "execution_count": 18,
     "metadata": {},
     "output_type": "execute_result"
    }
   ],
   "source": [
    "emb.shape"
   ]
  },
  {
   "cell_type": "code",
   "execution_count": 23,
   "id": "80b705ec",
   "metadata": {},
   "outputs": [
    {
     "data": {
      "text/plain": [
       "array([[ 0.99818754,  0.39473718],\n",
       "       [ 0.58718574, -0.02084557],\n",
       "       [ 0.7266837 ,  0.8171082 ],\n",
       "       ...,\n",
       "       [-1.1650574 ,  0.25306547],\n",
       "       [ 0.05083498, -1.2620952 ],\n",
       "       [ 0.83039784,  1.0256803 ]], dtype=float32)"
      ]
     },
     "execution_count": 23,
     "metadata": {},
     "output_type": "execute_result"
    }
   ],
   "source": [
    "emb1 = np.load('deepwalk/emb1.txt.npy')"
   ]
  },
  {
   "cell_type": "code",
   "execution_count": 30,
   "id": "3bfc288b",
   "metadata": {
    "scrolled": true
   },
   "outputs": [
    {
     "data": {
      "text/plain": [
       "Text(0.5, 1.0, 'Supreme Court Clustering Data')"
      ]
     },
     "execution_count": 30,
     "metadata": {},
     "output_type": "execute_result"
    },
    {
     "data": {
      "image/png": "[encoded data removed]",
      "text/plain": [
       "<Figure size 432x288 with 1 Axes>"
      ]
     },
     "metadata": {
      "needs_background": "light"
     },
     "output_type": "display_data"
    }
   ],
   "source": [
    "import matplotlib.pyplot as plt\n",
    "%matplotlib inline\n",
    "\n",
    "plt.scatter(emb1[:, 0], emb1[:, 1], alpha = 0.1)\n",
    "plt.title('Supreme Court Clustering Data')"
   ]
  }
 ],
 "metadata": {
  "kernelspec": {
   "display_name": "Python [conda env:MAIS]",
   "language": "python",
   "name": "conda-env-MAIS-py"
  },
  "language_info": {
   "codemirror_mode": {
    "name": "ipython",
    "version": 3
   },
   "file_extension": ".py",
   "mimetype": "text/x-python",
   "name": "python",
   "nbconvert_exporter": "python",
   "pygments_lexer": "ipython3",
   "version": "3.9.6"
  }
 },
 "nbformat": 4,
 "nbformat_minor": 5
}
